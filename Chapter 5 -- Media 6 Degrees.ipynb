{
 "metadata": {
  "name": ""
 },
 "nbformat": 3,
 "nbformat_minor": 0,
 "worksheets": [
  {
   "cells": [
    {
     "cell_type": "code",
     "collapsed": false,
     "input": [
      "import pandas as pd\n",
      "import numpy as np\n",
      "import matplotlib.pyplot as plt\n",
      "import seaborn as sns\n",
      "import statsmodels.api as sm"
     ],
     "language": "python",
     "metadata": {},
     "outputs": [],
     "prompt_number": 1
    },
    {
     "cell_type": "code",
     "collapsed": false,
     "input": [
      "!head -n 2 dds_datasets/dds_ch5_binary-class-dataset.txt"
     ],
     "language": "python",
     "metadata": {},
     "outputs": [
      {
       "output_type": "stream",
       "stream": "stdout",
       "text": [
        "at_buy_boolean\tat_freq_buy\tat_freq_last24_buy\tat_freq_last24_sv\tat_freq_last24_sv_int_buy\tat_freq_sv\tat_freq_sv_int_buy\tat_interval_buy\tat_interval_sv\tat_interval_sv_int_buy\texpected_time_buy\texpected_time_sv\texpected_time_sv_int_buy\tlast_buy\tlast_sv\tlast_sv_int_buy\tmultiple_buy\tmultiple_sv\tmultiple_sv_int_buy\tuniq_content_links\tnum_checkins\ty_buy\r",
        "\r\n",
        "0\t0\t0\t0\t0\t1\t0\t0\t0\t0\t0\t0\t0\t0\t106\t0\t0\t0\t0\t169\t2130\t0\r",
        "\r\n"
       ]
      }
     ],
     "prompt_number": 6
    },
    {
     "cell_type": "code",
     "collapsed": false,
     "input": [
      "# Looks like tab separated points\n",
      "df = pd.read_csv('dds_datasets/dds_ch5_binary-class-dataset.txt', sep='\\t')\n",
      "df.info()"
     ],
     "language": "python",
     "metadata": {},
     "outputs": [
      {
       "output_type": "stream",
       "stream": "stdout",
       "text": [
        "<class 'pandas.core.frame.DataFrame'>\n",
        "Int64Index: 54584 entries, 0 to 54583\n",
        "Data columns (total 22 columns):\n",
        "at_buy_boolean               54584 non-null int64\n",
        "at_freq_buy                  54584 non-null int64\n",
        "at_freq_last24_buy           54584 non-null int64\n",
        "at_freq_last24_sv            54584 non-null int64\n",
        "at_freq_last24_sv_int_buy    54584 non-null int64\n",
        "at_freq_sv                   54584 non-null int64\n",
        "at_freq_sv_int_buy           54584 non-null int64\n",
        "at_interval_buy              54584 non-null float64\n",
        "at_interval_sv               54584 non-null float64\n",
        "at_interval_sv_int_buy       54584 non-null float64\n",
        "expected_time_buy            54584 non-null float64\n",
        "expected_time_sv             54584 non-null float64\n",
        "expected_time_sv_int_buy     54584 non-null float64\n",
        "last_buy                     54584 non-null int64\n",
        "last_sv                      54584 non-null int64\n",
        "last_sv_int_buy              54584 non-null int64\n",
        "multiple_buy                 54584 non-null int64\n",
        "multiple_sv                  54584 non-null int64\n",
        "multiple_sv_int_buy          54584 non-null int64\n",
        "uniq_content_links           54584 non-null int64\n",
        "num_checkins                 54584 non-null int64\n",
        "y_buy                        54584 non-null int64\n",
        "dtypes: float64(6), int64(16)"
       ]
      }
     ],
     "prompt_number": 12
    },
    {
     "cell_type": "code",
     "collapsed": false,
     "input": [
      "# Find the ones that are binary\n",
      "\n",
      "df.isin([0, 1]).all(0)"
     ],
     "language": "python",
     "metadata": {},
     "outputs": [
      {
       "metadata": {},
       "output_type": "pyout",
       "prompt_number": 18,
       "text": [
        "at_buy_boolean                True\n",
        "at_freq_buy                  False\n",
        "at_freq_last24_buy           False\n",
        "at_freq_last24_sv            False\n",
        "at_freq_last24_sv_int_buy    False\n",
        "at_freq_sv                   False\n",
        "at_freq_sv_int_buy           False\n",
        "at_interval_buy              False\n",
        "at_interval_sv               False\n",
        "at_interval_sv_int_buy       False\n",
        "expected_time_buy            False\n",
        "expected_time_sv             False\n",
        "expected_time_sv_int_buy     False\n",
        "last_buy                     False\n",
        "last_sv                      False\n",
        "last_sv_int_buy              False\n",
        "multiple_buy                  True\n",
        "multiple_sv                   True\n",
        "multiple_sv_int_buy           True\n",
        "uniq_content_links           False\n",
        "num_checkins                 False\n",
        "y_buy                         True\n",
        "dtype: bool"
       ]
      }
     ],
     "prompt_number": 18
    },
    {
     "cell_type": "markdown",
     "metadata": {},
     "source": [
      "Use scikit-learn to partition into training and testing sets."
     ]
    },
    {
     "cell_type": "code",
     "collapsed": false,
     "input": [
      "from sklearn.cross_validation import train_test_split\n",
      "\n",
      "X_names = df.columns[df.columns != 'y_buy']\n",
      "X = df[X_names].values\n",
      "y = df['y_buy'].values.ravel()  # y should be 1-d\n",
      "\n",
      "X_train, X_test, y_train, y_test = train_test_split(X, y, test_size=.35)"
     ],
     "language": "python",
     "metadata": {},
     "outputs": [],
     "prompt_number": 81
    },
    {
     "cell_type": "markdown",
     "metadata": {},
     "source": [
      "We'll start with statsmodels' Logistic Regression.\n",
      "The integration with pandas is great here because we can use\n",
      "the column labels to select a subset of the variables and attach\n",
      "the labels to the summary. I'm not sure if scikit-learn is able\n",
      "to do this."
     ]
    },
    {
     "cell_type": "code",
     "collapsed": false,
     "input": [
      "df_train = pd.concat([pd.DataFrame(X_train, columns=X_names),\n",
      "                      pd.DataFrame(y_train, columns=[\"y_buy\"])],\n",
      "                     axis=1)\n",
      "\n",
      "df_test = pd.concat([pd.DataFrame(X_test, columns=X_names),\n",
      "                      pd.DataFrame(y_test, columns=[\"y_buy\"])],\n",
      "                     axis=1)\n",
      "\n",
      "v_list = [\"at_buy_boolean\", \"at_freq_buy\", \"at_freq_last24_buy\",\n",
      "          \"at_freq_last24_sv\", \"at_freq_sv\", \"expected_time_buy\",\n",
      "          \"expected_time_sv\", \"last_buy\", \"last_sv\", \"num_checkins\"]\n",
      "\n",
      "mod_sm = sm.Logit.from_formula(\"y_buy ~ \" + ' + '.join(v_list), df_train)\n",
      "res_sm = mod_sm.fit()\n",
      "res_sm.summary()"
     ],
     "language": "python",
     "metadata": {},
     "outputs": [
      {
       "output_type": "stream",
       "stream": "stdout",
       "text": [
        "Optimization terminated successfully.\n",
        "         Current function value: 0.024033\n",
        "         Iterations 12\n"
       ]
      },
      {
       "html": [
        "<table class=\"simpletable\">\n",
        "<caption>Logit Regression Results</caption>\n",
        "<tr>\n",
        "  <th>Dep. Variable:</th>       <td>y_buy</td>      <th>  No. Observations:  </th>  <td> 35479</td>  \n",
        "</tr>\n",
        "<tr>\n",
        "  <th>Model:</th>               <td>Logit</td>      <th>  Df Residuals:      </th>  <td> 35468</td>  \n",
        "</tr>\n",
        "<tr>\n",
        "  <th>Method:</th>               <td>MLE</td>       <th>  Df Model:          </th>  <td>    10</td>  \n",
        "</tr>\n",
        "<tr>\n",
        "  <th>Date:</th>          <td>Wed, 12 Feb 2014</td> <th>  Pseudo R-squ.:     </th>  <td>0.1759</td>  \n",
        "</tr>\n",
        "<tr>\n",
        "  <th>Time:</th>              <td>09:56:45</td>     <th>  Log-Likelihood:    </th> <td> -852.67</td> \n",
        "</tr>\n",
        "<tr>\n",
        "  <th>converged:</th>           <td>True</td>       <th>  LL-Null:           </th> <td> -1034.7</td> \n",
        "</tr>\n",
        "<tr>\n",
        "  <th> </th>                      <td> </td>        <th>  LLR p-value:       </th> <td>4.289e-72</td>\n",
        "</tr>\n",
        "</table>\n",
        "<table class=\"simpletable\">\n",
        "<tr>\n",
        "           <td></td>             <th>coef</th>     <th>std err</th>      <th>z</th>      <th>P>|z|</th> <th>[95.0% Conf. Int.]</th> \n",
        "</tr>\n",
        "<tr>\n",
        "  <th>Intercept</th>          <td>   -4.8677</td> <td>    0.144</td> <td>  -33.920</td> <td> 0.000</td> <td>   -5.149    -4.586</td>\n",
        "</tr>\n",
        "<tr>\n",
        "  <th>at_buy_boolean</th>     <td>    1.9649</td> <td>    0.276</td> <td>    7.112</td> <td> 0.000</td> <td>    1.423     2.506</td>\n",
        "</tr>\n",
        "<tr>\n",
        "  <th>at_freq_buy</th>        <td>    0.1950</td> <td>    0.116</td> <td>    1.675</td> <td> 0.094</td> <td>   -0.033     0.423</td>\n",
        "</tr>\n",
        "<tr>\n",
        "  <th>at_freq_last24_buy</th> <td>   -0.9726</td> <td>    0.609</td> <td>   -1.598</td> <td> 0.110</td> <td>   -2.166     0.220</td>\n",
        "</tr>\n",
        "<tr>\n",
        "  <th>at_freq_last24_sv</th>  <td>    0.1271</td> <td>    0.029</td> <td>    4.322</td> <td> 0.000</td> <td>    0.069     0.185</td>\n",
        "</tr>\n",
        "<tr>\n",
        "  <th>at_freq_sv</th>         <td>    0.0112</td> <td>    0.012</td> <td>    0.925</td> <td> 0.355</td> <td>   -0.012     0.035</td>\n",
        "</tr>\n",
        "<tr>\n",
        "  <th>expected_time_buy</th>  <td>   -0.0021</td> <td>    0.006</td> <td>   -0.365</td> <td> 0.715</td> <td>   -0.014     0.009</td>\n",
        "</tr>\n",
        "<tr>\n",
        "  <th>expected_time_sv</th>   <td>   -0.0068</td> <td>    0.005</td> <td>   -1.319</td> <td> 0.187</td> <td>   -0.017     0.003</td>\n",
        "</tr>\n",
        "<tr>\n",
        "  <th>last_buy</th>           <td>   -0.0009</td> <td>    0.003</td> <td>   -0.283</td> <td> 0.778</td> <td>   -0.007     0.005</td>\n",
        "</tr>\n",
        "<tr>\n",
        "  <th>last_sv</th>            <td>   -0.0281</td> <td>    0.004</td> <td>   -6.672</td> <td> 0.000</td> <td>   -0.036    -0.020</td>\n",
        "</tr>\n",
        "<tr>\n",
        "  <th>num_checkins</th>       <td>-4.834e-06</td> <td> 7.77e-05</td> <td>   -0.062</td> <td> 0.950</td> <td>   -0.000     0.000</td>\n",
        "</tr>\n",
        "</table>"
       ],
       "metadata": {},
       "output_type": "pyout",
       "prompt_number": 116,
       "text": [
        "<class 'statsmodels.iolib.summary.Summary'>\n",
        "\"\"\"\n",
        "                           Logit Regression Results                           \n",
        "==============================================================================\n",
        "Dep. Variable:                  y_buy   No. Observations:                35479\n",
        "Model:                          Logit   Df Residuals:                    35468\n",
        "Method:                           MLE   Df Model:                           10\n",
        "Date:                Wed, 12 Feb 2014   Pseudo R-squ.:                  0.1759\n",
        "Time:                        09:56:45   Log-Likelihood:                -852.67\n",
        "converged:                       True   LL-Null:                       -1034.7\n",
        "                                        LLR p-value:                 4.289e-72\n",
        "======================================================================================\n",
        "                         coef    std err          z      P>|z|      [95.0% Conf. Int.]\n",
        "--------------------------------------------------------------------------------------\n",
        "Intercept             -4.8677      0.144    -33.920      0.000        -5.149    -4.586\n",
        "at_buy_boolean         1.9649      0.276      7.112      0.000         1.423     2.506\n",
        "at_freq_buy            0.1950      0.116      1.675      0.094        -0.033     0.423\n",
        "at_freq_last24_buy    -0.9726      0.609     -1.598      0.110        -2.166     0.220\n",
        "at_freq_last24_sv      0.1271      0.029      4.322      0.000         0.069     0.185\n",
        "at_freq_sv             0.0112      0.012      0.925      0.355        -0.012     0.035\n",
        "expected_time_buy     -0.0021      0.006     -0.365      0.715        -0.014     0.009\n",
        "expected_time_sv      -0.0068      0.005     -1.319      0.187        -0.017     0.003\n",
        "last_buy              -0.0009      0.003     -0.283      0.778        -0.007     0.005\n",
        "last_sv               -0.0281      0.004     -6.672      0.000        -0.036    -0.020\n",
        "num_checkins       -4.834e-06   7.77e-05     -0.062      0.950        -0.000     0.000\n",
        "======================================================================================\n",
        "\"\"\""
       ]
      }
     ],
     "prompt_number": 116
    },
    {
     "cell_type": "code",
     "collapsed": false,
     "input": [
      "from sklearn.linear_model import LogisticRegression\n",
      "\n",
      "# filter X_train down to just those in v_list.\n",
      "# This is why we have DataFrames\n",
      "\n",
      "positions = X_names.isin(v_list)\n",
      "X_train_sub = X_train[:, positions]\n",
      "X_test_sub = X_test[:, positions]\n",
      "\n",
      "mod = LogisticRegression(penalty='l2')\n",
      "mod.fit(X_train_sub, y_train)"
     ],
     "language": "python",
     "metadata": {},
     "outputs": [
      {
       "metadata": {},
       "output_type": "pyout",
       "prompt_number": 157,
       "text": [
        "LogisticRegression(C=1.0, class_weight=None, dual=False, fit_intercept=True,\n",
        "          intercept_scaling=1, penalty='l2', random_state=None, tol=0.0001)"
       ]
      }
     ],
     "prompt_number": 157
    },
    {
     "cell_type": "code",
     "collapsed": false,
     "input": [
      "# doesn't include the intercept\n",
      "mod.coef_"
     ],
     "language": "python",
     "metadata": {},
     "outputs": [
      {
       "metadata": {},
       "output_type": "pyout",
       "prompt_number": 160,
       "text": [
        "array([[  1.72349141e+00,   2.36327238e-01,  -6.34840021e-01,\n",
        "          1.19302122e-01,   9.23390625e-03,  -1.51888885e-03,\n",
        "         -8.11211854e-03,   5.41608561e-04,  -3.03563387e-02,\n",
        "         -1.85285854e-05]])"
       ]
      }
     ],
     "prompt_number": 160
    },
    {
     "cell_type": "markdown",
     "metadata": {},
     "source": [
      "Looks like some aren't even within an order of magnitude (`at_freq_last24_buy`,\n",
      "the 3rd one in `mod.coef_`)."
     ]
    },
    {
     "cell_type": "code",
     "collapsed": false,
     "input": [
      "mod.score(X_test_sub, y_test)"
     ],
     "language": "python",
     "metadata": {},
     "outputs": [
      {
       "metadata": {},
       "output_type": "pyout",
       "prompt_number": 161,
       "text": [
        "0.99513216435488094"
       ]
      }
     ],
     "prompt_number": 161
    },
    {
     "cell_type": "markdown",
     "metadata": {},
     "source": [
      "I'm not sure what the next section on \"Get performance metrics on each variable\" is doing."
     ]
    },
    {
     "cell_type": "code",
     "collapsed": false,
     "input": [
      "mod_sm2 = sm.Logit.from_formula(\"y_buy ~ num_checkins\", df_train)\n",
      "res_sm2 = mod_sm2.fit()\n",
      "y = df_train.y_buy\n",
      "\n",
      "yhat = res_sm2.predict(df_test)"
     ],
     "language": "python",
     "metadata": {},
     "outputs": [
      {
       "output_type": "stream",
       "stream": "stdout",
       "text": [
        "Optimization terminated successfully.\n",
        "         Current function value: 0.029133\n",
        "         Iterations 10\n"
       ]
      }
     ],
     "prompt_number": 162
    },
    {
     "cell_type": "code",
     "collapsed": false,
     "input": [
      "fig, ax = plt.subplots()\n",
      "\n",
      "ax.scatter(df_test.y_buy, yhat)"
     ],
     "language": "python",
     "metadata": {},
     "outputs": [
      {
       "metadata": {},
       "output_type": "pyout",
       "prompt_number": 163,
       "text": [
        "<matplotlib.collections.PathCollection at 0x10a905e50>"
       ]
      },
      {
       "metadata": {},
       "output_type": "display_data",
       "png": "[encoded data removed]",
       "text": [
        "<matplotlib.figure.Figure at 0x107fc8d50>"
       ]
      }
     ],
     "prompt_number": 163
    },
    {
     "cell_type": "code",
     "collapsed": false,
     "input": [],
     "language": "python",
     "metadata": {},
     "outputs": []
    }
   ],
   "metadata": {}
  }
 ]
}