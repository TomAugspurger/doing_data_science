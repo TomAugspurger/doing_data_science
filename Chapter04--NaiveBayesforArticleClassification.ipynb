{
 "metadata": {
  "name": ""
 },
 "nbformat": 3,
 "nbformat_minor": 0,
 "worksheets": [
  {
   "cells": [
    {
     "cell_type": "markdown",
     "metadata": {},
     "source": [
      "Register for an API key at http://developer.nytimes.com. I've got mine saved to `./.nytimes_key`. Make sure to add that to you `.gitignore` also so that it doesn't get pushed into public."
     ]
    },
    {
     "cell_type": "code",
     "collapsed": false,
     "input": [
      "with open(\".nytimes_key\") as f:\n",
      "    key = f.readline().strip()  # get rid of newline\n"
     ],
     "language": "python",
     "metadata": {},
     "outputs": [],
     "prompt_number": 2
    },
    {
     "cell_type": "markdown",
     "metadata": {},
     "source": [
      "## Download the Articles\n",
      "\n",
      "- 2,000 most recent articles per section\n",
      "- Sections: Arts, Business, Obituaries, Sports, and World sections\n",
      "- Each article saved to its own tsv file:\n",
      "\n",
      "    + article url\n",
      "    + article title\n",
      "    + article body"
     ]
    },
    {
     "cell_type": "code",
     "collapsed": false,
     "input": [
      "import requests"
     ],
     "language": "python",
     "metadata": {},
     "outputs": [],
     "prompt_number": 3
    },
    {
     "cell_type": "code",
     "collapsed": false,
     "input": [
      "base_url = \"http://api.nytimes.com/svc/search/v2/articlesearch\"\n",
      "section_facets = ['arts', 'business', 'obituaries', 'sports', 'world']"
     ],
     "language": "python",
     "metadata": {},
     "outputs": [],
     "prompt_number": 4
    },
    {
     "cell_type": "code",
     "collapsed": false,
     "input": [
      "q = \"\"\"http://api.nytimes.com/svc/search/v2/articlesearch\n",
      ".response-format?[q=search term&fq=filter-field:(filter-term)&additional-params=values]&api-key=####\n",
      "\n",
      "params = {'api-key': key,\n",
      "          'nytd_section_facet': 'section_name',\n",
      "          'facet_filter': 'arts,'}\n",
      "r = requests.get(q.format(key))"
     ],
     "language": "python",
     "metadata": {},
     "outputs": [],
     "prompt_number": 17
    },
    {
     "cell_type": "code",
     "collapsed": false,
     "input": [
      "r.content"
     ],
     "language": "python",
     "metadata": {},
     "outputs": [
      {
       "metadata": {},
       "output_type": "pyout",
       "prompt_number": 18,
       "text": [
        "'{\"meta\":{\"code\":404,\"msg\":\"NOT FOUND.\"}}'"
       ]
      }
     ],
     "prompt_number": 18
    },
    {
     "cell_type": "code",
     "collapsed": false,
     "input": [],
     "language": "python",
     "metadata": {},
     "outputs": []
    }
   ],
   "metadata": {}
  }
 ]
}